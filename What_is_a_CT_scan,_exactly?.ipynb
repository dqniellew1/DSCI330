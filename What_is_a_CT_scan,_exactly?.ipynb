{
  "nbformat": 4,
  "nbformat_minor": 0,
  "metadata": {
    "colab": {
      "name": "What is a CT scan, exactly?.ipynb",
      "provenance": [],
      "authorship_tag": "ABX9TyOQzHCEMj4r60qXpCprIFZ9",
      "include_colab_link": true
    },
    "kernelspec": {
      "name": "python3",
      "display_name": "Python 3"
    }
  },
  "cells": [
    {
      "cell_type": "markdown",
      "metadata": {
        "id": "view-in-github",
        "colab_type": "text"
      },
      "source": [
        "<a href=\"https://colab.research.google.com/github/dqniellew1/DSCI330/blob/master/What_is_a_CT_scan%2C_exactly%3F.ipynb\" target=\"_parent\"><img src=\"https://colab.research.google.com/assets/colab-badge.svg\" alt=\"Open In Colab\"/></a>"
      ]
    },
    {
      "cell_type": "code",
      "metadata": {
        "id": "52nDZmsdakr6",
        "colab_type": "code",
        "colab": {}
      },
      "source": [
        "drive_dir = 'drive/My Drive/dlwpt-code/data/'"
      ],
      "execution_count": null,
      "outputs": []
    },
    {
      "cell_type": "code",
      "metadata": {
        "id": "rNTYKL13aoAl",
        "colab_type": "code",
        "colab": {}
      },
      "source": [
        "%matplotlib inline \n",
        "from matplotlib import pyplot as plt\n",
        "import numpy as np\n",
        "import collections\n",
        "\n",
        "import torch\n",
        "import torch.nn as nn\n",
        "import torch.optim as optim\n",
        "import torch.nn.functional as F\n",
        "\n",
        "torch.set_printoptions(edgeitems=2)\n",
        "torch.manual_seed(123)"
      ],
      "execution_count": null,
      "outputs": []
    },
    {
      "cell_type": "markdown",
      "metadata": {
        "id": "NwZmWq65dYJS",
        "colab_type": "text"
      },
      "source": [
        "Learning about you problem space is crucial! We have to combine insights into the space with intuition about neural network behavior."
      ]
    },
    {
      "cell_type": "markdown",
      "metadata": {
        "id": "qewL5UPndmGr",
        "colab_type": "text"
      },
      "source": [
        "**What is a CT scan, exactly**\n",
        "\n",
        "They are essentially 3-D x-rays, represented as a 3-D array of single channel data.\n",
        "\n",
        "Voxel is the 3-D equivalent to the the familiar 2-D pixel (Height x Width), rather than an area, and will typically be arranged in a 3-D grid to represent a field of data. Each of those dimensions will have a measurable distance associated. Often, voxels are cubic, but for this chapter we will be dealing with voxels that are rectangular prisms.\n",
        "\n",
        "\n",
        "![alt text](data:image/png;base64,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)"
      ]
    },
    {
      "cell_type": "markdown",
      "metadata": {
        "id": "tT_vQpTfdygi",
        "colab_type": "text"
      },
      "source": [
        "Each voxel of a CT scan has a numeric value that roughly corrresponds to the average mass density of the matter contained inside. Most visualizations of that data have **high-density** materials like bones and metal implants as **white**, **low-density air** and lung tissue as **black** and fat and tissue as various shades of **gray in between**. This ends up looking somewhat similar to an x-ray with some key differences."
      ]
    },
    {
      "cell_type": "markdown",
      "metadata": {
        "id": "4sxaMpXpf6Jg",
        "colab_type": "text"
      },
      "source": [
        " The primary difference between CT scans and x-rays is that while an x-ray is a projection of 3D intensity onto a 2D plane, a CT scam retains the 3rd dimension of the data. This allows us to render the data in a variety of ways."
      ]
    },
    {
      "cell_type": "markdown",
      "metadata": {
        "id": "_fdpbBJIh_FJ",
        "colab_type": "text"
      },
      "source": [
        "From the image above we can see that length represents the patient's head to foot. So how they are measured along the two other axis (height and width) are different. This explains why the voxel is not cubic and also ties into how we approach massaging our data."
      ]
    },
    {
      "cell_type": "markdown",
      "metadata": {
        "id": "rR_ARvDji8CI",
        "colab_type": "text"
      },
      "source": [
        "Steps we will take for our problem:\n",
        "![alt text](https://dpzbhybb2pdcj.cloudfront.net/stevens2/v-13/Figures/p2_mental_model.png)\n",
        "\n",
        "1. Load our raw CT scan data into a form that we can use with PyTorch\n",
        "2. Identify the voxels of potentially malignant tumors in the lungs using PyTorch to implement segmentation. (This is roughly akin to producing a heatmap of areas that should be fed into our classifier)\n",
        "  - This will allows us to focus on **potential malignant tumors** inside the lungs, and ignore huge swathes of uninteresting anatomy. (can't have lung cancer in the stomach)\n",
        "  - Generally, being able to **focus on a single, small task is going to be best while learning.** With experience, there are some situations where more complicated model structures can yield superlative results. But first gotta master basic building blocks.\n",
        "3. Cluster interesting voxels into lumps called nodules. Here, we will be **finding the rough center of each hotspot on our heatmap.**\n",
        "  - Each nodule can be located with by the **index, row and column of their center point**. We do this to present a simple constrained problem to the final classifier.\n",
        "  - This will not involve PyTorch directly, which is why we've this out into a separate step.\n",
        "  - Often when working with multi-step solutions, there will be non-deep-learning glue steps between the larger, deep-learning-powered portions of the project.\n",
        "4. Classify identified nodules as benign or malignant using 3D convolution.\n",
        "  - This will be similar in concept to the 2D convolutions earlier.\n",
        "  - The features that determine malignancy of a tumor are local to the tumor in question, so this approach should provide a good balance between limiting input data size without excluding relevant information.\n",
        "  - Making scope-limiting decisions like this can help each individual task constrained, which can help by limiting the amount of things to examine when troubleshooting.\n",
        "5. Diagnose the patient using the combined per-nodule classifications.\n",
        "  - We will be taking a simple maximum of the per-tumor malignancy predictions, as a patient only needs one tumor to be malignant to have cancer.\n",
        "  - \\* Other projects might want to use different ways of aggregating the per-instance predictions into a file score."
      ]
    },
    {
      "cell_type": "markdown",
      "metadata": {
        "id": "h0eTQ-38q3dv",
        "colab_type": "text"
      },
      "source": [
        "**What is a nodule?**\n",
        "\n",
        "A nodule is any of the myriad lumps and bumps that might appear inside of someone's lungs. Some are problematic from a health's perspective, some are not. \n",
        "\n",
        "The key part is this: **the cancers that we are trying to detect will always be nodules; one either suspended in the very non-dense tissue of the lung, or attached to the lung wall.**\n",
        "\n",
        "That means we can limit our classifier to only nodules, rather having it examine all tissue. Being able to restrict the scope of expected inputs will help our classifier learn the task at hand.\n",
        "\n",
        "\\* This is another example of how the underlying deep learning techniques we'll use are universal, but they can't be applied blindly. **We need to understand the field we're working in to make choices that will serve us well.**"
      ]
    },
    {
      "cell_type": "code",
      "metadata": {
        "id": "A065tFZkDENQ",
        "colab_type": "code",
        "colab": {}
      },
      "source": [
        ""
      ],
      "execution_count": null,
      "outputs": []
    }
  ]
}